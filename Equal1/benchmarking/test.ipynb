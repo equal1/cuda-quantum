{
 "cells": [
  {
   "cell_type": "code",
   "execution_count": 1,
   "metadata": {},
   "outputs": [],
   "source": [
    "from mqt.bench import get_benchmark, TKETSettings, CompilerSettings\n",
    "from typing import Tuple\n",
    "import cudaq\n",
    "import time\n",
    "import re\n",
    "import ast\n",
    "import numpy as np\n",
    "import pandas as pd\n",
    "from tqdm import tqdm"
   ]
  },
  {
   "cell_type": "code",
   "execution_count": 2,
   "metadata": {},
   "outputs": [],
   "source": [
    "# cudaq.set_target(\"equal1\", emulate=True, url=\"http://host.docker.internal:62123\")\n",
    "cudaq.set_target(\"nvidia\", option=\"fp64\")"
   ]
  },
  {
   "cell_type": "code",
   "execution_count": 3,
   "metadata": {},
   "outputs": [],
   "source": [
    "compiler_settings = CompilerSettings(tket=TKETSettings(placement=\"linplacement\"))\n",
    "\n",
    "algorithm = get_benchmark(\n",
    "    benchmark_name=\"random\",\n",
    "    level=\"nativegates\",\n",
    "    circuit_size=5,\n",
    "    compiler=\"tket\",\n",
    "    provider_name=\"ibm\",\n",
    "    compiler_settings=compiler_settings,\n",
    ")"
   ]
  },
  {
   "cell_type": "code",
   "execution_count": null,
   "metadata": {},
   "outputs": [],
   "source": [
    "def benchmark_algorithm(algorithm) -> Tuple[str, float]:\n",
    "    kernel = cudaq.make_kernel()\n",
    "\n",
    "    # Allocate the qubits\n",
    "    for q_register in algorithm.q_registers:\n",
    "        code = f\"{q_register.name} = kernel.qalloc({q_register.size})\"\n",
    "        exec(code)\n",
    "\n",
    "    # Translate tket commands to cudaq commands\n",
    "    for command in algorithm.get_commands():\n",
    "        if command.op.get_name() == \"Barrier\":\n",
    "            continue\n",
    "        elif command.op.get_name() == \"Measure\":\n",
    "            assert len(command.qubits) == 1\n",
    "            assert len(command.bits) == 1\n",
    "            code = f\"kernel.mz({command.qubits[0]}, '{command.bits[0]}')\"\n",
    "        else:\n",
    "            op_name = command.op.get_name().lower()\n",
    "            if len(command.op.params) > 0:\n",
    "                op_name = op_name.split(\"(\")[0]\n",
    "\n",
    "            if op_name == \"sx\":\n",
    "                code = f\"kernel.rx(np.pi/2, {','.join([str(q_register) for q_register in command.qubits])})\"\n",
    "            elif op_name == \"u1\":\n",
    "                code = re.sub(r\"u1\\(\", \"u3(0.0,0.0,\", code)\n",
    "            elif op_name == \"u2\":\n",
    "                code = re.sub(r\"u2\\(\", \"u3(0.5,\", code)\n",
    "            elif op_name == \"ccx\":\n",
    "                code = re.sub(\n",
    "                    r\"ccx\\(([^)]+)\\)\",\n",
    "                    lambda m: f\"cx([{','.join(m.group(1).split(',')[:-1])}],{m.group(1).split(',')[-1]})\",\n",
    "                    code,\n",
    "                )\n",
    "            else:\n",
    "                code = f\"kernel.{op_name}({','.join([str(param) for param in command.op.params] + [str(q_register) for q_register in command.qubits])})\"\n",
    "\n",
    "        exec(code)\n",
    "\n",
    "    # Sample the kernel\n",
    "    start = time.perf_counter()\n",
    "    counts = cudaq.sample(kernel)\n",
    "    end = time.perf_counter()\n",
    "\n",
    "    return counts, end - start"
   ]
  },
  {
   "cell_type": "code",
   "execution_count": 5,
   "metadata": {},
   "outputs": [
    {
     "name": "stdout",
     "output_type": "stream",
     "text": [
      "{ \n",
      "  __global__ : { 00000:72 00001:72 00010:30 00011:130 00100:13 00101:34 00110:29 00111:4 01000:12 01010:39 01011:8 01100:31 01101:40 01110:49 01111:7 10000:18 10001:32 10011:55 10100:62 10101:28 10110:1 10111:40 11000:28 11001:7 11010:7 11011:1 11100:15 11101:62 11110:35 11111:39 }\n",
      "   meas[0] : { 0:570 1:430 }\n",
      "   meas[1] : { 0:620 1:380 }\n",
      "   meas[2] : { 0:526 1:474 }\n",
      "   meas[3] : { 0:511 1:489 }\n",
      "   meas[4] : { 0:441 1:559 }\n",
      "}\n",
      "\n",
      "Time: 0.46 s\n"
     ]
    }
   ],
   "source": [
    "counts, sample_time = benchmark_algorithm(algorithm)\n",
    "print(counts)\n",
    "print(f\"Time: {sample_time:.2f} s\")"
   ]
  },
  {
   "cell_type": "code",
   "execution_count": 6,
   "metadata": {},
   "outputs": [],
   "source": [
    "def sample_result_to_dict(counts) -> dict:\n",
    "    counts_str = str(counts)\n",
    "    counts_str = re.sub(r\"(\\S+)\\s?:\", r'\"\\1\":', counts_str)\n",
    "    counts_str = counts_str.replace(\"}\", \"},\")\n",
    "    counts_str = re.sub(r\"(\\S+:\\S+)\", r\"\\1,\", counts_str)\n",
    "    counts_str = counts_str[:-2]\n",
    "\n",
    "    counts_dict = ast.literal_eval(counts_str)\n",
    "\n",
    "    return counts_dict"
   ]
  },
  {
   "cell_type": "code",
   "execution_count": 7,
   "metadata": {},
   "outputs": [],
   "source": [
    "benchmarks = [\"random\"]\n",
    "min_qubits, max_qubits = 2, 256"
   ]
  },
  {
   "cell_type": "code",
   "execution_count": 8,
   "metadata": {},
   "outputs": [],
   "source": [
    "def run_benchmarks(benchmarks, min_qubits, max_qubits) -> pd.DataFrame:\n",
    "    i = 0\n",
    "    df = pd.DataFrame(\n",
    "        columns=[\"benchmark\", \"qubits\", \"gates\", \"sample_time\", \"counts\"],\n",
    "    )\n",
    "    for benchmark_name in benchmarks:\n",
    "        for qubits in tqdm(range(min_qubits, max_qubits + 1), desc=benchmark_name):\n",
    "            algorithm = get_benchmark(\n",
    "                benchmark_name=benchmark_name,\n",
    "                level=\"nativegates\",\n",
    "                circuit_size=qubits,\n",
    "                compiler=\"tket\",\n",
    "                provider_name=\"ibm\",\n",
    "                compiler_settings=compiler_settings,\n",
    "            )\n",
    "\n",
    "            counts, sample_time = benchmark_algorithm(algorithm)\n",
    "            counts_dict = sample_result_to_dict(counts)\n",
    "\n",
    "            df.loc[i] = [\n",
    "                algorithm.name,\n",
    "                algorithm.n_qubits,\n",
    "                algorithm.n_gates,\n",
    "                sample_time,\n",
    "                counts_dict,\n",
    "            ]\n",
    "            i += 1\n",
    "\n",
    "    return df"
   ]
  },
  {
   "cell_type": "code",
   "execution_count": null,
   "metadata": {},
   "outputs": [
    {
     "name": "stderr",
     "output_type": "stream",
     "text": [
      "random:   9%|▉         | 24/255 [13:26<6:50:10, 106.54s/it]"
     ]
    }
   ],
   "source": [
    "df = run_benchmarks(benchmarks, min_qubits, max_qubits)"
   ]
  },
  {
   "cell_type": "code",
   "execution_count": null,
   "metadata": {},
   "outputs": [],
   "source": [
    "df.head()"
   ]
  },
  {
   "cell_type": "code",
   "execution_count": null,
   "metadata": {},
   "outputs": [],
   "source": [
    "df.to_csv(\"benchmark_results.csv\", index=False)"
   ]
  }
 ],
 "metadata": {
  "kernelspec": {
   "display_name": "Python 3",
   "language": "python",
   "name": "python3"
  },
  "language_info": {
   "codemirror_mode": {
    "name": "ipython",
    "version": 3
   },
   "file_extension": ".py",
   "mimetype": "text/x-python",
   "name": "python",
   "nbconvert_exporter": "python",
   "pygments_lexer": "ipython3",
   "version": "3.10.12"
  }
 },
 "nbformat": 4,
 "nbformat_minor": 2
}
