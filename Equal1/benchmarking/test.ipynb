{
 "cells": [
  {
   "cell_type": "code",
   "execution_count": 12,
   "metadata": {},
   "outputs": [],
   "source": [
    "from mqt.bench import get_benchmark, TKETSettings, CompilerSettings\n",
    "from typing import Tuple\n",
    "import cudaq\n",
    "import time\n",
    "import re\n",
    "import ast\n",
    "import numpy as np\n",
    "import pandas as pd\n",
    "from tqdm import tqdm"
   ]
  },
  {
   "cell_type": "code",
   "execution_count": 13,
   "metadata": {},
   "outputs": [],
   "source": [
    "# cudaq.set_target(\"equal1\", emulate=True, url=\"http://host.docker.internal:62123\")\n",
    "# cudaq.set_target(\"nvidia\", option=\"fp64\")"
   ]
  },
  {
   "cell_type": "code",
   "execution_count": null,
   "metadata": {},
   "outputs": [
    {
     "data": {
      "text/plain": [
       "257"
      ]
     },
     "execution_count": 16,
     "metadata": {},
     "output_type": "execute_result"
    }
   ],
   "source": [
    "compiler_settings = CompilerSettings(tket=TKETSettings(placement=\"linplacement\"))\n",
    "\n",
    "algorithm = get_benchmark(\n",
    "    benchmark_name=\"random\",\n",
    "    level=\"nativegates\",\n",
    "    circuit_size=5,\n",
    "    compiler=\"tket\",\n",
    "    provider_name=\"ibm\",\n",
    "    compiler_settings=compiler_settings,\n",
    ")"
   ]
  },
  {
   "cell_type": "code",
   "execution_count": 4,
   "metadata": {},
   "outputs": [],
   "source": [
    "def benchmark_algorithm(algorithm) -> Tuple[str, float]:\n",
    "    kernel = cudaq.make_kernel()\n",
    "\n",
    "    # Allocate the qubits\n",
    "    for q_register in algorithm.q_registers:\n",
    "        code = f\"{q_register.name} = kernel.qalloc({q_register.size})\"\n",
    "        exec(code)\n",
    "\n",
    "    # Translate tket commands to cudaq commands\n",
    "    for command in algorithm.get_commands():\n",
    "        if command.op.get_name() == \"Barrier\":\n",
    "            continue\n",
    "        elif command.op.get_name() == \"Measure\":\n",
    "            assert len(command.qubits) == 1\n",
    "            assert len(command.bits) == 1\n",
    "            code = f\"kernel.mz({command.qubits[0]}, '{command.bits[0]}')\"\n",
    "        else:\n",
    "            op_name = command.op.get_name().lower()\n",
    "            if len(command.op.params) > 0:\n",
    "                op_name = op_name.split(\"(\")[0]\n",
    "\n",
    "            if op_name == \"sx\":\n",
    "                code = f\"kernel.rx(np.pi/2, {','.join([str(q_register) for q_register in command.qubits])})\"\n",
    "            elif op_name == \"u1\":\n",
    "                code = re.sub(r\"u1\\(\", \"u3(0.0,0.0,\", code)\n",
    "            elif op_name == \"u2\":\n",
    "                code = re.sub(r\"u2\\(\", \"u3(0.5,\", code)\n",
    "            elif op_name == \"ccx\":\n",
    "                code = re.sub(\n",
    "                    r\"ccx\\(([^)]+)\\)\",\n",
    "                    lambda m: f\"cx([{','.join(m.group(1).split(',')[:-1])}],{m.group(1).split(',')[-1]})\",\n",
    "                    code,\n",
    "                )\n",
    "            else:\n",
    "                code = f\"kernel.{op_name}({','.join([str(param) for param in command.op.params] + [str(q_register) for q_register in command.qubits])})\"\n",
    "\n",
    "        exec(code)\n",
    "\n",
    "    # Sample the kernel\n",
    "    start = time.perf_counter()\n",
    "    counts = cudaq.sample(kernel)\n",
    "    end = time.perf_counter()\n",
    "\n",
    "    return counts, end - start"
   ]
  },
  {
   "cell_type": "code",
   "execution_count": 5,
   "metadata": {},
   "outputs": [
    {
     "name": "stdout",
     "output_type": "stream",
     "text": [
      "{ \n",
      "  __global__ : { 00000:87 00001:73 00010:23 00011:129 00100:17 00101:42 00110:27 00111:1 01000:8 01001:6 01010:27 01011:2 01100:34 01101:60 01110:33 01111:10 10000:38 10001:28 10010:1 10011:52 10100:64 10101:14 10110:1 10111:50 11000:27 11001:2 11010:7 11100:5 11101:59 11110:25 11111:48 }\n",
      "   meas[0] : { 0:579 1:421 }\n",
      "   meas[1] : { 0:647 1:353 }\n",
      "   meas[2] : { 0:564 1:436 }\n",
      "   meas[3] : { 0:510 1:490 }\n",
      "   meas[4] : { 0:424 1:576 }\n",
      "}\n",
      "\n",
      "Time: 0.13 s\n"
     ]
    }
   ],
   "source": [
    "counts, sample_time = benchmark_algorithm(algorithm)\n",
    "print(counts)\n",
    "print(f\"Time: {sample_time:.2f} s\")"
   ]
  },
  {
   "cell_type": "code",
   "execution_count": 6,
   "metadata": {},
   "outputs": [],
   "source": [
    "def sample_result_to_dict(counts) -> dict:\n",
    "    counts_str = str(counts)\n",
    "    counts_str = re.sub(r\"(\\S+)\\s?:\", r'\"\\1\":', counts_str)\n",
    "    counts_str = counts_str.replace(\"}\", \"},\")\n",
    "    counts_str = re.sub(r\"(\\S+:\\S+)\", r\"\\1,\", counts_str)\n",
    "    counts_str = counts_str[:-2]\n",
    "\n",
    "    counts_dict = ast.literal_eval(counts_str)\n",
    "\n",
    "    return counts_dict"
   ]
  },
  {
   "cell_type": "code",
   "execution_count": 7,
   "metadata": {},
   "outputs": [],
   "source": [
    "benchmarks = [\"random\"]\n",
    "min_qubits, max_qubits = 2, 16"
   ]
  },
  {
   "cell_type": "code",
   "execution_count": null,
   "metadata": {},
   "outputs": [],
   "source": [
    "def run_benchmarks(benchmarks, min_qubits, max_qubits) -> pd.DataFrame:\n",
    "    i = 0\n",
    "    df = pd.DataFrame(\n",
    "        columns=[\"benchmark\", \"qubits\", \"gates\", \"depth\", \"sample_time\", \"counts\"],\n",
    "    )\n",
    "    for benchmark_name in benchmarks:\n",
    "        for qubits in tqdm(range(min_qubits, max_qubits + 1), desc=benchmark_name):\n",
    "            algorithm = get_benchmark(\n",
    "                benchmark_name=benchmark_name,\n",
    "                level=\"nativegates\",\n",
    "                circuit_size=qubits,\n",
    "                compiler=\"tket\",\n",
    "                provider_name=\"ibm\",\n",
    "                compiler_settings=compiler_settings,\n",
    "            )\n",
    "\n",
    "            counts, sample_time = benchmark_algorithm(algorithm)\n",
    "            counts_dict = sample_result_to_dict(counts)\n",
    "\n",
    "            df.loc[i] = [\n",
    "                algorithm.name,\n",
    "                algorithm.n_qubits,\n",
    "                algorithm.n_gates,\n",
    "                algorithm.depth(),\n",
    "                sample_time,\n",
    "                counts_dict,\n",
    "            ]\n",
    "            i += 1\n",
    "\n",
    "    return df"
   ]
  },
  {
   "cell_type": "code",
   "execution_count": 9,
   "metadata": {},
   "outputs": [
    {
     "name": "stderr",
     "output_type": "stream",
     "text": [
      "random:   0%|          | 0/15 [00:00<?, ?it/s]"
     ]
    },
    {
     "name": "stderr",
     "output_type": "stream",
     "text": [
      "random: 100%|██████████| 15/15 [01:15<00:00,  5.07s/it]\n"
     ]
    }
   ],
   "source": [
    "df = run_benchmarks(benchmarks, min_qubits, max_qubits)"
   ]
  },
  {
   "cell_type": "code",
   "execution_count": 10,
   "metadata": {},
   "outputs": [
    {
     "data": {
      "text/html": [
       "<div>\n",
       "<style scoped>\n",
       "    .dataframe tbody tr th:only-of-type {\n",
       "        vertical-align: middle;\n",
       "    }\n",
       "\n",
       "    .dataframe tbody tr th {\n",
       "        vertical-align: top;\n",
       "    }\n",
       "\n",
       "    .dataframe thead th {\n",
       "        text-align: right;\n",
       "    }\n",
       "</style>\n",
       "<table border=\"1\" class=\"dataframe\">\n",
       "  <thead>\n",
       "    <tr style=\"text-align: right;\">\n",
       "      <th></th>\n",
       "      <th>benchmark</th>\n",
       "      <th>qubits</th>\n",
       "      <th>gates</th>\n",
       "      <th>sample_time</th>\n",
       "      <th>counts</th>\n",
       "    </tr>\n",
       "  </thead>\n",
       "  <tbody>\n",
       "    <tr>\n",
       "      <th>0</th>\n",
       "      <td>random</td>\n",
       "      <td>2</td>\n",
       "      <td>31</td>\n",
       "      <td>0.028124</td>\n",
       "      <td>{'__global__': {'00': 481, '01': 432, '10': 69...</td>\n",
       "    </tr>\n",
       "    <tr>\n",
       "      <th>1</th>\n",
       "      <td>random</td>\n",
       "      <td>3</td>\n",
       "      <td>260</td>\n",
       "      <td>0.052099</td>\n",
       "      <td>{'__global__': {'000': 144, '001': 159, '010':...</td>\n",
       "    </tr>\n",
       "    <tr>\n",
       "      <th>2</th>\n",
       "      <td>random</td>\n",
       "      <td>4</td>\n",
       "      <td>437</td>\n",
       "      <td>0.054475</td>\n",
       "      <td>{'__global__': {'0000': 97, '0001': 218, '0010...</td>\n",
       "    </tr>\n",
       "    <tr>\n",
       "      <th>3</th>\n",
       "      <td>random</td>\n",
       "      <td>5</td>\n",
       "      <td>597</td>\n",
       "      <td>0.066373</td>\n",
       "      <td>{'__global__': {'00000': 71, '00001': 80, '000...</td>\n",
       "    </tr>\n",
       "    <tr>\n",
       "      <th>4</th>\n",
       "      <td>random</td>\n",
       "      <td>6</td>\n",
       "      <td>985</td>\n",
       "      <td>0.103318</td>\n",
       "      <td>{'__global__': {'000000': 22, '000001': 22, '0...</td>\n",
       "    </tr>\n",
       "  </tbody>\n",
       "</table>\n",
       "</div>"
      ],
      "text/plain": [
       "  benchmark  qubits  gates  sample_time  \\\n",
       "0    random       2     31     0.028124   \n",
       "1    random       3    260     0.052099   \n",
       "2    random       4    437     0.054475   \n",
       "3    random       5    597     0.066373   \n",
       "4    random       6    985     0.103318   \n",
       "\n",
       "                                              counts  \n",
       "0  {'__global__': {'00': 481, '01': 432, '10': 69...  \n",
       "1  {'__global__': {'000': 144, '001': 159, '010':...  \n",
       "2  {'__global__': {'0000': 97, '0001': 218, '0010...  \n",
       "3  {'__global__': {'00000': 71, '00001': 80, '000...  \n",
       "4  {'__global__': {'000000': 22, '000001': 22, '0...  "
      ]
     },
     "execution_count": 10,
     "metadata": {},
     "output_type": "execute_result"
    }
   ],
   "source": [
    "df.head()"
   ]
  },
  {
   "cell_type": "code",
   "execution_count": 11,
   "metadata": {},
   "outputs": [],
   "source": [
    "df.to_csv(\"benchmark_results.csv\", index=False)"
   ]
  }
 ],
 "metadata": {
  "kernelspec": {
   "display_name": "Python 3",
   "language": "python",
   "name": "python3"
  },
  "language_info": {
   "codemirror_mode": {
    "name": "ipython",
    "version": 3
   },
   "file_extension": ".py",
   "mimetype": "text/x-python",
   "name": "python",
   "nbconvert_exporter": "python",
   "pygments_lexer": "ipython3",
   "version": "3.10.12"
  }
 },
 "nbformat": 4,
 "nbformat_minor": 2
}
